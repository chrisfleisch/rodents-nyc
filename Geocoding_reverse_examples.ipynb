{
 "cells": [
  {
   "cell_type": "code",
   "execution_count": 4,
   "metadata": {},
   "outputs": [],
   "source": [
    "from geopy.geocoders import Nominatim"
   ]
  },
  {
   "cell_type": "code",
   "execution_count": 5,
   "metadata": {},
   "outputs": [],
   "source": [
    "def nominatim_hack(geocoder: Nominatim):\n",
    "        \"\"\"HACK to geopy bugs #262 and #185\"\"\"\n",
    "        requester = geocoder.urlopen\n",
    "\n",
    "        def requester_hack(req, **kwargs):\n",
    "            req = Request(url=req, headers=geocoder.headers)\n",
    "            return requester(req, **kwargs)\n",
    "\n",
    "        geocoder.urlopen = requester_hack"
   ]
  },
  {
   "cell_type": "code",
   "execution_count": 6,
   "metadata": {},
   "outputs": [
    {
     "ename": "AttributeError",
     "evalue": "'NoneType' object has no attribute 'reverse'",
     "output_type": "error",
     "traceback": [
      "\u001b[0;31m---------------------------------------------------------------------------\u001b[0m",
      "\u001b[0;31mAttributeError\u001b[0m                            Traceback (most recent call last)",
      "\u001b[0;32m<ipython-input-6-bdea8ba730bb>\u001b[0m in \u001b[0;36m<module>\u001b[0;34m()\u001b[0m\n\u001b[1;32m      2\u001b[0m \u001b[0mgeolocator\u001b[0m \u001b[0;34m=\u001b[0m \u001b[0mNominatim\u001b[0m\u001b[0;34m(\u001b[0m\u001b[0;34m)\u001b[0m\u001b[0;34m\u001b[0m\u001b[0m\n\u001b[1;32m      3\u001b[0m \u001b[0mgeolocator\u001b[0m \u001b[0;34m=\u001b[0m \u001b[0mnominatim_hack\u001b[0m\u001b[0;34m(\u001b[0m\u001b[0mgeolocator\u001b[0m\u001b[0;34m)\u001b[0m\u001b[0;34m\u001b[0m\u001b[0m\n\u001b[0;32m----> 4\u001b[0;31m \u001b[0mlocation\u001b[0m \u001b[0;34m=\u001b[0m \u001b[0mgeolocator\u001b[0m\u001b[0;34m.\u001b[0m\u001b[0mreverse\u001b[0m\u001b[0;34m(\u001b[0m\u001b[0;34m\"52.509669, 13.376294\"\u001b[0m\u001b[0;34m)\u001b[0m\u001b[0;34m\u001b[0m\u001b[0m\n\u001b[0m\u001b[1;32m      5\u001b[0m \u001b[0mprint\u001b[0m\u001b[0;34m(\u001b[0m\u001b[0mlocation\u001b[0m\u001b[0;34m.\u001b[0m\u001b[0maddress\u001b[0m\u001b[0;34m)\u001b[0m\u001b[0;34m\u001b[0m\u001b[0m\n\u001b[1;32m      6\u001b[0m \u001b[0;34m\u001b[0m\u001b[0m\n",
      "\u001b[0;31mAttributeError\u001b[0m: 'NoneType' object has no attribute 'reverse'"
     ]
    }
   ],
   "source": [
    "\n",
    "geolocator = Nominatim()\n",
    "geolocator = nominatim_hack(geolocator)\n",
    "location = geolocator.reverse(\"52.509669, 13.376294\")\n",
    "print(location.address)\n",
    "\n",
    "print((location.latitude, location.longitude))\n",
    "(52.5094982, 13.3765983)\n",
    "print(location.raw)\n"
   ]
  },
  {
   "cell_type": "code",
   "execution_count": null,
   "metadata": {},
   "outputs": [],
   "source": [
    "## NEW TRY"
   ]
  },
  {
   "cell_type": "code",
   "execution_count": 11,
   "metadata": {},
   "outputs": [],
   "source": [
    "import requests\n",
    "\n",
    "\n",
    "def example():\n",
    "    # grab some lat/long coords from wherever. For this example,\n",
    "    # I just opened a javascript console in the browser and ran:\n",
    "    #\n",
    "    # navigator.geolocation.getCurrentPosition(function(p) {\n",
    "    #   console.log(p);\n",
    "    # })\n",
    "    #\n",
    "    latitude = 35.1330343\n",
    "    longitude = -90.0625056\n",
    "\n",
    "    # Did the geocoding request comes from a device with a\n",
    "    # location sensor? Must be either true or false.\n",
    "    sensor = 'true'\n",
    "\n",
    "    # Hit Google's reverse geocoder directly\n",
    "    # NOTE: I *think* their terms state that you're supposed to\n",
    "    # use google maps if you use their api for anything.\n",
    "    base = \"http://maps.googleapis.com/maps/api/geocode/json?\"\n",
    "    params = \"latlng={lat},{lon}&sensor={sen}\".format(\n",
    "        lat=latitude,\n",
    "        lon=longitude,\n",
    "        sen=sensor\n",
    "    )\n",
    "    url = \"{base}{params}\".format(base=base, params=params)\n",
    "    response = requests.get(url)\n",
    "    return response.json['results'][0]['formatted_address']"
   ]
  },
  {
   "cell_type": "code",
   "execution_count": 17,
   "metadata": {},
   "outputs": [
    {
     "name": "stdout",
     "output_type": "stream",
     "text": [
      "<bound method Response.json of <Response [200]>>\n"
     ]
    }
   ],
   "source": [
    "import requests\n",
    "\n",
    "\n",
    "\n",
    "latitude = 35.1330343\n",
    "longitude = -90.0625056\n",
    "\n",
    "# Did the geocoding request comes from a device with a\n",
    "# location sensor? Must be either true or false.\n",
    "sensor = 'true'\n",
    "\n",
    "# Hit Google's reverse geocoder directly\n",
    "# NOTE: I *think* their terms state that you're supposed to\n",
    "# use google maps if you use their api for anything.\n",
    "base = \"http://maps.googleapis.com/maps/api/geocode/json?\"\n",
    "params = \"latlng={lat},{lon}&sensor={sen}\".format(\n",
    "    lat=latitude,\n",
    "    lon=longitude,\n",
    "    sen=sensor\n",
    ")\n",
    "url = \"{base}{params}\".format(base=base, params=params)\n",
    "response = requests.get(url)\n",
    "print(response.json)"
   ]
  },
  {
   "cell_type": "code",
   "execution_count": null,
   "metadata": {},
   "outputs": [],
   "source": [
    "# Geocoder"
   ]
  },
  {
   "cell_type": "code",
   "execution_count": 18,
   "metadata": {},
   "outputs": [],
   "source": [
    "import geocoder"
   ]
  },
  {
   "cell_type": "code",
   "execution_count": 23,
   "metadata": {},
   "outputs": [],
   "source": [
    "g = geocoder.google([40.76205, -73.9876], method='reverse')"
   ]
  },
  {
   "cell_type": "code",
   "execution_count": 24,
   "metadata": {},
   "outputs": [
    {
     "name": "stdout",
     "output_type": "stream",
     "text": [
      "10019\n"
     ]
    }
   ],
   "source": [
    "print(g.postal)"
   ]
  },
  {
   "cell_type": "code",
   "execution_count": null,
   "metadata": {},
   "outputs": [],
   "source": []
  }
 ],
 "metadata": {
  "kernelspec": {
   "display_name": "Python 3",
   "language": "python",
   "name": "python3"
  },
  "language_info": {
   "codemirror_mode": {
    "name": "ipython",
    "version": 3
   },
   "file_extension": ".py",
   "mimetype": "text/x-python",
   "name": "python",
   "nbconvert_exporter": "python",
   "pygments_lexer": "ipython3",
   "version": "3.5.4"
  }
 },
 "nbformat": 4,
 "nbformat_minor": 1
}
