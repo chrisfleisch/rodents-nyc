{
 "cells": [
  {
   "cell_type": "code",
   "execution_count": 1,
   "metadata": {
    "collapsed": true
   },
   "outputs": [],
   "source": [
    "import pandas as pd\n",
    "import numpy as np\n",
    "import matplotlib.pyplot as plt\n",
    "\n",
    "%matplotlib inline"
   ]
  },
  {
   "cell_type": "code",
   "execution_count": 2,
   "metadata": {},
   "outputs": [
    {
     "name": "stdout",
     "output_type": "stream",
     "text": [
      "CPU times: user 9min 12s, sys: 3.49 s, total: 9min 16s\n",
      "Wall time: 9min 31s\n"
     ]
    }
   ],
   "source": [
    "%%time\n",
    "data_url = 'https://www.dropbox.com/s/42qiax24owapd09/Rodent_Inspection.csv?dl=1'\n",
    "rodent_df = pd.read_csv(data_url,\n",
    "                        dtype={'ZIP_CODE': str},\n",
    "                        parse_dates=['INSPECTION_DATE', 'APPROVED_DATE'],\n",
    "                        infer_datetime_format = True\n",
    "                       )"
   ]
  },
  {
   "cell_type": "code",
   "execution_count": 3,
   "metadata": {},
   "outputs": [
    {
     "data": {
      "text/html": [
       "<div>\n",
       "<style>\n",
       "    .dataframe thead tr:only-child th {\n",
       "        text-align: right;\n",
       "    }\n",
       "\n",
       "    .dataframe thead th {\n",
       "        text-align: left;\n",
       "    }\n",
       "\n",
       "    .dataframe tbody tr th {\n",
       "        vertical-align: top;\n",
       "    }\n",
       "</style>\n",
       "<table border=\"1\" class=\"dataframe\">\n",
       "  <thead>\n",
       "    <tr style=\"text-align: right;\">\n",
       "      <th></th>\n",
       "      <th>INSPECTION_TYPE</th>\n",
       "      <th>JOB_TICKET_OR_WORK_ORDER_ID</th>\n",
       "      <th>JOB_ID</th>\n",
       "      <th>JOB_PROGRESS</th>\n",
       "      <th>BBL</th>\n",
       "      <th>BORO_CODE</th>\n",
       "      <th>BLOCK</th>\n",
       "      <th>LOT</th>\n",
       "      <th>HOUSE_NUMBER</th>\n",
       "      <th>STREET_NAME</th>\n",
       "      <th>ZIP_CODE</th>\n",
       "      <th>X_COORD</th>\n",
       "      <th>Y_COORD</th>\n",
       "      <th>LATITUDE</th>\n",
       "      <th>LONGITUDE</th>\n",
       "      <th>BOROUGH</th>\n",
       "      <th>INSPECTION_DATE</th>\n",
       "      <th>RESULT</th>\n",
       "      <th>APPROVED_DATE</th>\n",
       "      <th>LOCATION</th>\n",
       "    </tr>\n",
       "  </thead>\n",
       "  <tbody>\n",
       "    <tr>\n",
       "      <th>0</th>\n",
       "      <td>BAIT</td>\n",
       "      <td>1</td>\n",
       "      <td>PO12965</td>\n",
       "      <td>3</td>\n",
       "      <td>1011470035</td>\n",
       "      <td>1</td>\n",
       "      <td>1147</td>\n",
       "      <td>35</td>\n",
       "      <td>104</td>\n",
       "      <td>WEST 76 STREET</td>\n",
       "      <td>10023</td>\n",
       "      <td>990505.0</td>\n",
       "      <td>223527.0</td>\n",
       "      <td>40.780204</td>\n",
       "      <td>-73.977414</td>\n",
       "      <td>Manhattan</td>\n",
       "      <td>2009-10-14 12:00:27</td>\n",
       "      <td>Bait applied</td>\n",
       "      <td>2009-10-14 15:01:46</td>\n",
       "      <td>(40.7802039792471, -73.9774144709456)</td>\n",
       "    </tr>\n",
       "    <tr>\n",
       "      <th>1</th>\n",
       "      <td>BAIT</td>\n",
       "      <td>2</td>\n",
       "      <td>PO12966</td>\n",
       "      <td>3</td>\n",
       "      <td>1011470034</td>\n",
       "      <td>1</td>\n",
       "      <td>1147</td>\n",
       "      <td>34</td>\n",
       "      <td>102</td>\n",
       "      <td>WEST 76 STREET</td>\n",
       "      <td>10023</td>\n",
       "      <td>990516.0</td>\n",
       "      <td>223521.0</td>\n",
       "      <td>40.780188</td>\n",
       "      <td>-73.977375</td>\n",
       "      <td>Manhattan</td>\n",
       "      <td>2009-10-14 12:51:21</td>\n",
       "      <td>Bait applied</td>\n",
       "      <td>2009-10-14 15:02:30</td>\n",
       "      <td>(40.7801875030438, -73.977374757787)</td>\n",
       "    </tr>\n",
       "    <tr>\n",
       "      <th>2</th>\n",
       "      <td>BAIT</td>\n",
       "      <td>30</td>\n",
       "      <td>PO16966</td>\n",
       "      <td>3</td>\n",
       "      <td>2043370027</td>\n",
       "      <td>2</td>\n",
       "      <td>4337</td>\n",
       "      <td>27</td>\n",
       "      <td>620</td>\n",
       "      <td>THWAITES PLACE</td>\n",
       "      <td>10467</td>\n",
       "      <td>1020110.0</td>\n",
       "      <td>252216.0</td>\n",
       "      <td>40.858877</td>\n",
       "      <td>-73.870364</td>\n",
       "      <td>Bronx</td>\n",
       "      <td>2009-11-09 12:59:55</td>\n",
       "      <td>Bait applied</td>\n",
       "      <td>2009-11-10 14:54:52</td>\n",
       "      <td>(40.8588765781972, -73.8703636422023)</td>\n",
       "    </tr>\n",
       "    <tr>\n",
       "      <th>3</th>\n",
       "      <td>BAIT</td>\n",
       "      <td>31</td>\n",
       "      <td>PO13665</td>\n",
       "      <td>3</td>\n",
       "      <td>2037670077</td>\n",
       "      <td>2</td>\n",
       "      <td>3767</td>\n",
       "      <td>77</td>\n",
       "      <td>1227</td>\n",
       "      <td>WHITEPLAINS ROAD</td>\n",
       "      <td>10472</td>\n",
       "      <td>1022441.0</td>\n",
       "      <td>242180.0</td>\n",
       "      <td>40.831321</td>\n",
       "      <td>-73.861994</td>\n",
       "      <td>Bronx</td>\n",
       "      <td>2009-11-09 11:10:16</td>\n",
       "      <td>Bait applied</td>\n",
       "      <td>2009-11-10 14:56:42</td>\n",
       "      <td>(40.8313209626148, -73.861994089899)</td>\n",
       "    </tr>\n",
       "    <tr>\n",
       "      <th>4</th>\n",
       "      <td>BAIT</td>\n",
       "      <td>38</td>\n",
       "      <td>PO11291</td>\n",
       "      <td>3</td>\n",
       "      <td>1011690057</td>\n",
       "      <td>1</td>\n",
       "      <td>1169</td>\n",
       "      <td>57</td>\n",
       "      <td>2199</td>\n",
       "      <td>BROADWAY</td>\n",
       "      <td>10024</td>\n",
       "      <td>989641.0</td>\n",
       "      <td>224567.0</td>\n",
       "      <td>40.783059</td>\n",
       "      <td>-73.980533</td>\n",
       "      <td>Manhattan</td>\n",
       "      <td>2009-11-10 08:40:42</td>\n",
       "      <td>Bait applied</td>\n",
       "      <td>2009-11-17 11:39:11</td>\n",
       "      <td>(40.7830590725833, -73.9805333640688)</td>\n",
       "    </tr>\n",
       "  </tbody>\n",
       "</table>\n",
       "</div>"
      ],
      "text/plain": [
       "  INSPECTION_TYPE  JOB_TICKET_OR_WORK_ORDER_ID   JOB_ID  JOB_PROGRESS  \\\n",
       "0            BAIT                            1  PO12965             3   \n",
       "1            BAIT                            2  PO12966             3   \n",
       "2            BAIT                           30  PO16966             3   \n",
       "3            BAIT                           31  PO13665             3   \n",
       "4            BAIT                           38  PO11291             3   \n",
       "\n",
       "          BBL  BORO_CODE  BLOCK  LOT HOUSE_NUMBER       STREET_NAME ZIP_CODE  \\\n",
       "0  1011470035          1   1147   35          104    WEST 76 STREET    10023   \n",
       "1  1011470034          1   1147   34          102    WEST 76 STREET    10023   \n",
       "2  2043370027          2   4337   27          620    THWAITES PLACE    10467   \n",
       "3  2037670077          2   3767   77         1227  WHITEPLAINS ROAD    10472   \n",
       "4  1011690057          1   1169   57         2199          BROADWAY    10024   \n",
       "\n",
       "     X_COORD   Y_COORD   LATITUDE  LONGITUDE    BOROUGH     INSPECTION_DATE  \\\n",
       "0   990505.0  223527.0  40.780204 -73.977414  Manhattan 2009-10-14 12:00:27   \n",
       "1   990516.0  223521.0  40.780188 -73.977375  Manhattan 2009-10-14 12:51:21   \n",
       "2  1020110.0  252216.0  40.858877 -73.870364      Bronx 2009-11-09 12:59:55   \n",
       "3  1022441.0  242180.0  40.831321 -73.861994      Bronx 2009-11-09 11:10:16   \n",
       "4   989641.0  224567.0  40.783059 -73.980533  Manhattan 2009-11-10 08:40:42   \n",
       "\n",
       "         RESULT       APPROVED_DATE                               LOCATION  \n",
       "0  Bait applied 2009-10-14 15:01:46  (40.7802039792471, -73.9774144709456)  \n",
       "1  Bait applied 2009-10-14 15:02:30   (40.7801875030438, -73.977374757787)  \n",
       "2  Bait applied 2009-11-10 14:54:52  (40.8588765781972, -73.8703636422023)  \n",
       "3  Bait applied 2009-11-10 14:56:42   (40.8313209626148, -73.861994089899)  \n",
       "4  Bait applied 2009-11-17 11:39:11  (40.7830590725833, -73.9805333640688)  "
      ]
     },
     "execution_count": 3,
     "metadata": {},
     "output_type": "execute_result"
    }
   ],
   "source": [
    "rodent_df.head()"
   ]
  },
  {
   "cell_type": "code",
   "execution_count": 4,
   "metadata": {},
   "outputs": [
    {
     "name": "stdout",
     "output_type": "stream",
     "text": [
      "<class 'pandas.core.frame.DataFrame'>\n",
      "RangeIndex: 1356414 entries, 0 to 1356413\n",
      "Data columns (total 20 columns):\n",
      "INSPECTION_TYPE                1356414 non-null object\n",
      "JOB_TICKET_OR_WORK_ORDER_ID    1356414 non-null int64\n",
      "JOB_ID                         1356414 non-null object\n",
      "JOB_PROGRESS                   1356414 non-null int64\n",
      "BBL                            1356414 non-null int64\n",
      "BORO_CODE                      1356414 non-null int64\n",
      "BLOCK                          1356414 non-null int64\n",
      "LOT                            1356414 non-null int64\n",
      "HOUSE_NUMBER                   1332987 non-null object\n",
      "STREET_NAME                    1355759 non-null object\n",
      "ZIP_CODE                       1356388 non-null object\n",
      "X_COORD                        1346900 non-null float64\n",
      "Y_COORD                        1346900 non-null float64\n",
      "LATITUDE                       1353295 non-null float64\n",
      "LONGITUDE                      1353295 non-null float64\n",
      "BOROUGH                        1356414 non-null object\n",
      "INSPECTION_DATE                1356412 non-null datetime64[ns]\n",
      "RESULT                         1356409 non-null object\n",
      "APPROVED_DATE                  1356414 non-null datetime64[ns]\n",
      "LOCATION                       1353193 non-null object\n",
      "dtypes: datetime64[ns](2), float64(4), int64(6), object(8)\n",
      "memory usage: 207.0+ MB\n"
     ]
    }
   ],
   "source": [
    "rodent_df.info()"
   ]
  },
  {
   "cell_type": "code",
   "execution_count": 5,
   "metadata": {},
   "outputs": [
    {
     "data": {
      "text/plain": [
       "(1356414, 20)"
      ]
     },
     "execution_count": 5,
     "metadata": {},
     "output_type": "execute_result"
    }
   ],
   "source": [
    "rodent_df.shape"
   ]
  },
  {
   "cell_type": "code",
   "execution_count": 6,
   "metadata": {},
   "outputs": [
    {
     "data": {
      "text/plain": [
       "Passed Inspection     841595\n",
       "Bait applied          177150\n",
       "Active Rat Signs      164883\n",
       "Problem Conditions    148645\n",
       "Monitoring visit       22916\n",
       "Cleanup done            1220\n",
       "Name: RESULT, dtype: int64"
      ]
     },
     "execution_count": 6,
     "metadata": {},
     "output_type": "execute_result"
    }
   ],
   "source": [
    "rodent_df['RESULT'].value_counts()"
   ]
  },
  {
   "cell_type": "code",
   "execution_count": 7,
   "metadata": {},
   "outputs": [
    {
     "data": {
      "text/plain": [
       "INITIAL       957899\n",
       "BAIT          200066\n",
       "COMPLIANCE    197229\n",
       "CLEAN_UPS       1220\n",
       "Name: INSPECTION_TYPE, dtype: int64"
      ]
     },
     "execution_count": 7,
     "metadata": {},
     "output_type": "execute_result"
    }
   ],
   "source": [
    "rodent_df.INSPECTION_TYPE.value_counts()"
   ]
  },
  {
   "cell_type": "code",
   "execution_count": 8,
   "metadata": {},
   "outputs": [
    {
     "data": {
      "text/plain": [
       "Manhattan        436653\n",
       "Bronx            430540\n",
       "Brooklyn         300332\n",
       "Queens           145351\n",
       "Staten Island     43538\n",
       "Name: BOROUGH, dtype: int64"
      ]
     },
     "execution_count": 8,
     "metadata": {},
     "output_type": "execute_result"
    }
   ],
   "source": [
    "rodent_df.BOROUGH.value_counts()"
   ]
  },
  {
   "cell_type": "code",
   "execution_count": 9,
   "metadata": {},
   "outputs": [
    {
     "data": {
      "text/plain": [
       "count                 1356412\n",
       "unique                1327271\n",
       "top       2011-10-01 07:00:00\n",
       "freq                       30\n",
       "first     1930-01-30 08:24:15\n",
       "last      2018-12-29 11:15:31\n",
       "Name: INSPECTION_DATE, dtype: object"
      ]
     },
     "execution_count": 9,
     "metadata": {},
     "output_type": "execute_result"
    }
   ],
   "source": [
    "rodent_df['INSPECTION_DATE'].describe()"
   ]
  },
  {
   "cell_type": "code",
   "execution_count": 10,
   "metadata": {},
   "outputs": [
    {
     "data": {
      "text/plain": [
       "count                 1315333\n",
       "unique                1287059\n",
       "top       2011-10-01 07:00:00\n",
       "freq                       30\n",
       "first     2010-01-01 09:55:00\n",
       "last      2017-12-30 14:02:40\n",
       "Name: INSPECTION_DATE, dtype: object"
      ]
     },
     "execution_count": 10,
     "metadata": {},
     "output_type": "execute_result"
    }
   ],
   "source": [
    "# remove data from 2009 and before and 2018\n",
    "new_rodent_df = rodent_df[(rodent_df['INSPECTION_DATE'].dt.year >= 2010) & \n",
    "                          (rodent_df['INSPECTION_DATE'].dt.year < 2018)]\n",
    "new_rodent_df['INSPECTION_DATE'].describe()"
   ]
  },
  {
   "cell_type": "code",
   "execution_count": 11,
   "metadata": {
    "collapsed": true
   },
   "outputs": [],
   "source": [
    "# remove where zip code 0\n",
    "new_roden_df = new_rodent_df[(new_rodent_df['ZIP_CODE'] != \"0\")]"
   ]
  },
  {
   "cell_type": "code",
   "execution_count": 12,
   "metadata": {},
   "outputs": [
    {
     "data": {
      "text/plain": [
       "<matplotlib.axes._subplots.AxesSubplot at 0x114bf2cf8>"
      ]
     },
     "execution_count": 12,
     "metadata": {},
     "output_type": "execute_result"
    },
    {
     "data": {
      "image/png": "[encoded data removed]",
      "text/plain": [
       "<matplotlib.figure.Figure at 0x114bf20b8>"
      ]
     },
     "metadata": {},
     "output_type": "display_data"
    }
   ],
   "source": [
    "new_rodent_df.plot(kind=\"scatter\", x=\"LONGITUDE\", y=\"LATITUDE\")"
   ]
  },
  {
   "cell_type": "code",
   "execution_count": 13,
   "metadata": {},
   "outputs": [
    {
     "data": {
      "text/plain": [
       "(2782, 20)"
      ]
     },
     "execution_count": 13,
     "metadata": {},
     "output_type": "execute_result"
    }
   ],
   "source": [
    "new_rodent_df[new_rodent_df.LONGITUDE.isnull() | new_rodent_df.LATITUDE.isnull()].shape"
   ]
  },
  {
   "cell_type": "code",
   "execution_count": 14,
   "metadata": {},
   "outputs": [
    {
     "data": {
      "text/plain": [
       "(1312551, 20)"
      ]
     },
     "execution_count": 14,
     "metadata": {},
     "output_type": "execute_result"
    }
   ],
   "source": [
    "# remove null lat/log\n",
    "new_rodent_df = new_rodent_df[~new_rodent_df.LONGITUDE.isnull() | ~new_rodent_df.LATITUDE.isnull()]\n",
    "new_rodent_df.shape"
   ]
  },
  {
   "cell_type": "code",
   "execution_count": 15,
   "metadata": {
    "collapsed": true
   },
   "outputs": [],
   "source": [
    "# fig, axs = plt.subplots(1, 2)\n",
    "# axs[0].hist(rodent_df.LONGITUDE, bins=100)\n",
    "# axs[1].hist(rodent_df.LATITUDE, bins=100)"
   ]
  },
  {
   "cell_type": "code",
   "execution_count": 16,
   "metadata": {},
   "outputs": [
    {
     "data": {
      "text/plain": [
       "(1311992, 20)"
      ]
     },
     "execution_count": 16,
     "metadata": {},
     "output_type": "execute_result"
    }
   ],
   "source": [
    "# Limit coordinates near NYC\n",
    "# Lat 40 to 41\n",
    "# Long -74 to -73\n",
    "lat_long_msk = (new_rodent_df.LATITUDE > 39) & (new_rodent_df.LATITUDE < 42) & \\\n",
    "          (new_rodent_df.LONGITUDE > -75) & (new_rodent_df.LONGITUDE < -72)\n",
    "new_rodent_df[lat_long_msk].shape"
   ]
  },
  {
   "cell_type": "code",
   "execution_count": 17,
   "metadata": {
    "collapsed": true
   },
   "outputs": [],
   "source": [
    "new_rodent_df = new_rodent_df[lat_long_msk]"
   ]
  },
  {
   "cell_type": "code",
   "execution_count": 18,
   "metadata": {},
   "outputs": [
    {
     "data": {
      "text/plain": [
       "<matplotlib.axes._subplots.AxesSubplot at 0x1161e9470>"
      ]
     },
     "execution_count": 18,
     "metadata": {},
     "output_type": "execute_result"
    },
    {
     "data": {
      "image/png": "[encoded data removed]",
      "text/plain": [
       "<matplotlib.figure.Figure at 0x1421f6ac8>"
      ]
     },
     "metadata": {},
     "output_type": "display_data"
    }
   ],
   "source": [
    "new_rodent_df.plot(kind=\"scatter\", x=\"LONGITUDE\", y=\"LATITUDE\", alpha=0.1)"
   ]
  },
  {
   "cell_type": "code",
   "execution_count": 19,
   "metadata": {},
   "outputs": [
    {
     "data": {
      "text/plain": [
       "<matplotlib.axes._subplots.AxesSubplot at 0x11680acc0>"
      ]
     },
     "execution_count": 19,
     "metadata": {},
     "output_type": "execute_result"
    },
    {
     "data": {
      "image/png": "[encoded data removed]",
      "text/plain": [
       "<matplotlib.figure.Figure at 0x11c97dcc0>"
      ]
     },
     "metadata": {},
     "output_type": "display_data"
    }
   ],
   "source": [
    "new_rodent_df[new_rodent_df['RESULT'] == 'Active Rat Signs'].plot(\n",
    "    kind=\"scatter\", x=\"LONGITUDE\", y=\"LATITUDE\", alpha=0.01)"
   ]
  },
  {
   "cell_type": "code",
   "execution_count": 20,
   "metadata": {},
   "outputs": [
    {
     "data": {
      "text/html": [
       "<div>\n",
       "<style>\n",
       "    .dataframe thead tr:only-child th {\n",
       "        text-align: right;\n",
       "    }\n",
       "\n",
       "    .dataframe thead th {\n",
       "        text-align: left;\n",
       "    }\n",
       "\n",
       "    .dataframe tbody tr th {\n",
       "        vertical-align: top;\n",
       "    }\n",
       "</style>\n",
       "<table border=\"1\" class=\"dataframe\">\n",
       "  <thead>\n",
       "    <tr style=\"text-align: right;\">\n",
       "      <th></th>\n",
       "      <th>BOROUGH</th>\n",
       "      <th>RESULT</th>\n",
       "      <th>count</th>\n",
       "    </tr>\n",
       "  </thead>\n",
       "  <tbody>\n",
       "    <tr>\n",
       "      <th>0</th>\n",
       "      <td>Bronx</td>\n",
       "      <td>Active Rat Signs</td>\n",
       "      <td>59095</td>\n",
       "    </tr>\n",
       "    <tr>\n",
       "      <th>1</th>\n",
       "      <td>Bronx</td>\n",
       "      <td>Bait applied</td>\n",
       "      <td>59719</td>\n",
       "    </tr>\n",
       "    <tr>\n",
       "      <th>2</th>\n",
       "      <td>Bronx</td>\n",
       "      <td>Cleanup done</td>\n",
       "      <td>379</td>\n",
       "    </tr>\n",
       "    <tr>\n",
       "      <th>3</th>\n",
       "      <td>Bronx</td>\n",
       "      <td>Monitoring visit</td>\n",
       "      <td>2414</td>\n",
       "    </tr>\n",
       "    <tr>\n",
       "      <th>4</th>\n",
       "      <td>Bronx</td>\n",
       "      <td>Passed Inspection</td>\n",
       "      <td>250796</td>\n",
       "    </tr>\n",
       "  </tbody>\n",
       "</table>\n",
       "</div>"
      ],
      "text/plain": [
       "  BOROUGH             RESULT   count\n",
       "0   Bronx   Active Rat Signs   59095\n",
       "1   Bronx       Bait applied   59719\n",
       "2   Bronx       Cleanup done     379\n",
       "3   Bronx   Monitoring visit    2414\n",
       "4   Bronx  Passed Inspection  250796"
      ]
     },
     "execution_count": 20,
     "metadata": {},
     "output_type": "execute_result"
    }
   ],
   "source": [
    "# df = df.groupby(['date'], as_index=False)['steps'].sum()\n",
    "result_df = new_rodent_df[['BOROUGH', 'RESULT']].groupby(['BOROUGH', 'RESULT']).size().reset_index(name='count')\n",
    "result_df.head()"
   ]
  },
  {
   "cell_type": "code",
   "execution_count": 21,
   "metadata": {},
   "outputs": [
    {
     "data": {
      "text/plain": [
       "<Container object of 30 artists>"
      ]
     },
     "execution_count": 21,
     "metadata": {},
     "output_type": "execute_result"
    },
    {
     "data": {
      "image/png": "[encoded data removed]",
      "text/plain": [
       "<matplotlib.figure.Figure at 0x140b3f4e0>"
      ]
     },
     "metadata": {},
     "output_type": "display_data"
    }
   ],
   "source": [
    "fig, ax = plt.subplots()\n",
    "ax.bar(result_df['BOROUGH'], result_df['count'])"
   ]
  },
  {
   "cell_type": "code",
   "execution_count": 22,
   "metadata": {},
   "outputs": [
    {
     "data": {
      "image/png": "[encoded data removed]",
      "text/plain": [
       "<matplotlib.figure.Figure at 0x137bbedd8>"
      ]
     },
     "metadata": {},
     "output_type": "display_data"
    }
   ],
   "source": [
    "fig, ax = plt.subplots()\n",
    "ax.bar(result_df['RESULT'], result_df['count'])\n",
    "for tick in ax.get_xticklabels():\n",
    "    tick.set_rotation(45)"
   ]
  },
  {
   "cell_type": "code",
   "execution_count": 23,
   "metadata": {},
   "outputs": [
    {
     "data": {
      "text/plain": [
       "Text(0.5,1,'Active Rat Signs by Borough')"
      ]
     },
     "execution_count": 23,
     "metadata": {},
     "output_type": "execute_result"
    },
    {
     "data": {
      "image/png": "[encoded data removed]",
      "text/plain": [
       "<matplotlib.figure.Figure at 0x11416b9e8>"
      ]
     },
     "metadata": {},
     "output_type": "display_data"
    }
   ],
   "source": [
    "borough_active_df = result_df.loc[result_df['RESULT'] == 'Active Rat Signs']\n",
    "fig, ax = plt.subplots()\n",
    "ax.bar(borough_active_df['BOROUGH'], borough_active_df['count'])\n",
    "ax.set_title('Active Rat Signs by Borough')"
   ]
  },
  {
   "cell_type": "code",
   "execution_count": 24,
   "metadata": {},
   "outputs": [
    {
     "data": {
      "text/plain": [
       "Text(0.5,1,'Bait Applied by Borough')"
      ]
     },
     "execution_count": 24,
     "metadata": {},
     "output_type": "execute_result"
    },
    {
     "data": {
      "image/png": "[encoded data removed]",
      "text/plain": [
       "<matplotlib.figure.Figure at 0x10fa97748>"
      ]
     },
     "metadata": {},
     "output_type": "display_data"
    }
   ],
   "source": [
    "borough_bait_df = result_df.loc[result_df['RESULT'] == 'Bait applied']\n",
    "fig, ax = plt.subplots()\n",
    "ax.bar(borough_bait_df['BOROUGH'], borough_bait_df['count'])\n",
    "ax.set_title('Bait Applied by Borough')"
   ]
  },
  {
   "cell_type": "code",
   "execution_count": 25,
   "metadata": {},
   "outputs": [
    {
     "data": {
      "text/plain": [
       "Text(0.5,1,'Problem Conditions by Borough')"
      ]
     },
     "execution_count": 25,
     "metadata": {},
     "output_type": "execute_result"
    },
    {
     "data": {
      "image/png": "[encoded data removed]",
      "text/plain": [
       "<matplotlib.figure.Figure at 0x13bd37390>"
      ]
     },
     "metadata": {},
     "output_type": "display_data"
    }
   ],
   "source": [
    "borough_prob_df = result_df.loc[result_df['RESULT'] == 'Problem Conditions']\n",
    "fig, ax = plt.subplots()\n",
    "ax.bar(borough_prob_df['BOROUGH'], borough_prob_df['count'])\n",
    "ax.set_title('Problem Conditions by Borough')"
   ]
  },
  {
   "cell_type": "code",
   "execution_count": 26,
   "metadata": {},
   "outputs": [
    {
     "data": {
      "text/plain": [
       "(158168, 20)"
      ]
     },
     "execution_count": 26,
     "metadata": {},
     "output_type": "execute_result"
    }
   ],
   "source": [
    "# Active rat signs by year\n",
    "active_rat_df = new_rodent_df[new_rodent_df['RESULT'] == 'Active Rat Signs']\n",
    "active_rat_df.shape"
   ]
  },
  {
   "cell_type": "code",
   "execution_count": 27,
   "metadata": {},
   "outputs": [
    {
     "data": {
      "text/html": [
       "<div>\n",
       "<style>\n",
       "    .dataframe thead tr:only-child th {\n",
       "        text-align: right;\n",
       "    }\n",
       "\n",
       "    .dataframe thead th {\n",
       "        text-align: left;\n",
       "    }\n",
       "\n",
       "    .dataframe tbody tr th {\n",
       "        vertical-align: top;\n",
       "    }\n",
       "</style>\n",
       "<table border=\"1\" class=\"dataframe\">\n",
       "  <thead>\n",
       "    <tr style=\"text-align: right;\">\n",
       "      <th></th>\n",
       "      <th>INSPECTION_DATE</th>\n",
       "      <th>count</th>\n",
       "    </tr>\n",
       "  </thead>\n",
       "  <tbody>\n",
       "    <tr>\n",
       "      <th>0</th>\n",
       "      <td>2010</td>\n",
       "      <td>18518</td>\n",
       "    </tr>\n",
       "    <tr>\n",
       "      <th>1</th>\n",
       "      <td>2011</td>\n",
       "      <td>17875</td>\n",
       "    </tr>\n",
       "    <tr>\n",
       "      <th>2</th>\n",
       "      <td>2012</td>\n",
       "      <td>16922</td>\n",
       "    </tr>\n",
       "    <tr>\n",
       "      <th>3</th>\n",
       "      <td>2013</td>\n",
       "      <td>16368</td>\n",
       "    </tr>\n",
       "    <tr>\n",
       "      <th>4</th>\n",
       "      <td>2014</td>\n",
       "      <td>16341</td>\n",
       "    </tr>\n",
       "    <tr>\n",
       "      <th>5</th>\n",
       "      <td>2015</td>\n",
       "      <td>17474</td>\n",
       "    </tr>\n",
       "    <tr>\n",
       "      <th>6</th>\n",
       "      <td>2016</td>\n",
       "      <td>24068</td>\n",
       "    </tr>\n",
       "    <tr>\n",
       "      <th>7</th>\n",
       "      <td>2017</td>\n",
       "      <td>30602</td>\n",
       "    </tr>\n",
       "  </tbody>\n",
       "</table>\n",
       "</div>"
      ],
      "text/plain": [
       "   INSPECTION_DATE  count\n",
       "0             2010  18518\n",
       "1             2011  17875\n",
       "2             2012  16922\n",
       "3             2013  16368\n",
       "4             2014  16341\n",
       "5             2015  17474\n",
       "6             2016  24068\n",
       "7             2017  30602"
      ]
     },
     "execution_count": 27,
     "metadata": {},
     "output_type": "execute_result"
    }
   ],
   "source": [
    "# data.groupby(data.date.dt.year)\n",
    "active_rat_df.groupby(active_rat_df['INSPECTION_DATE'].dt.year).size().reset_index(name='count')"
   ]
  },
  {
   "cell_type": "code",
   "execution_count": 28,
   "metadata": {},
   "outputs": [
    {
     "data": {
      "text/html": [
       "<div>\n",
       "<style>\n",
       "    .dataframe thead tr:only-child th {\n",
       "        text-align: right;\n",
       "    }\n",
       "\n",
       "    .dataframe thead th {\n",
       "        text-align: left;\n",
       "    }\n",
       "\n",
       "    .dataframe tbody tr th {\n",
       "        vertical-align: top;\n",
       "    }\n",
       "</style>\n",
       "<table border=\"1\" class=\"dataframe\">\n",
       "  <thead>\n",
       "    <tr style=\"text-align: right;\">\n",
       "      <th></th>\n",
       "      <th>ZIP_CODE</th>\n",
       "      <th>BOROUGH</th>\n",
       "      <th>count</th>\n",
       "    </tr>\n",
       "  </thead>\n",
       "  <tbody>\n",
       "    <tr>\n",
       "      <th>70</th>\n",
       "      <td>10457</td>\n",
       "      <td>Bronx</td>\n",
       "      <td>9025</td>\n",
       "    </tr>\n",
       "    <tr>\n",
       "      <th>71</th>\n",
       "      <td>10458</td>\n",
       "      <td>Bronx</td>\n",
       "      <td>8228</td>\n",
       "    </tr>\n",
       "    <tr>\n",
       "      <th>69</th>\n",
       "      <td>10456</td>\n",
       "      <td>Bronx</td>\n",
       "      <td>6519</td>\n",
       "    </tr>\n",
       "    <tr>\n",
       "      <th>116</th>\n",
       "      <td>11221</td>\n",
       "      <td>Brooklyn</td>\n",
       "      <td>5681</td>\n",
       "    </tr>\n",
       "    <tr>\n",
       "      <th>82</th>\n",
       "      <td>10468</td>\n",
       "      <td>Bronx</td>\n",
       "      <td>5594</td>\n",
       "    </tr>\n",
       "    <tr>\n",
       "      <th>66</th>\n",
       "      <td>10453</td>\n",
       "      <td>Bronx</td>\n",
       "      <td>5243</td>\n",
       "    </tr>\n",
       "    <tr>\n",
       "      <th>131</th>\n",
       "      <td>11237</td>\n",
       "      <td>Brooklyn</td>\n",
       "      <td>4873</td>\n",
       "    </tr>\n",
       "    <tr>\n",
       "      <th>65</th>\n",
       "      <td>10452</td>\n",
       "      <td>Bronx</td>\n",
       "      <td>4075</td>\n",
       "    </tr>\n",
       "    <tr>\n",
       "      <th>81</th>\n",
       "      <td>10467</td>\n",
       "      <td>Bronx</td>\n",
       "      <td>3978</td>\n",
       "    </tr>\n",
       "    <tr>\n",
       "      <th>111</th>\n",
       "      <td>11216</td>\n",
       "      <td>Brooklyn</td>\n",
       "      <td>3926</td>\n",
       "    </tr>\n",
       "    <tr>\n",
       "      <th>101</th>\n",
       "      <td>11206</td>\n",
       "      <td>Brooklyn</td>\n",
       "      <td>3924</td>\n",
       "    </tr>\n",
       "    <tr>\n",
       "      <th>6</th>\n",
       "      <td>10002</td>\n",
       "      <td>Manhattan</td>\n",
       "      <td>3204</td>\n",
       "    </tr>\n",
       "    <tr>\n",
       "      <th>12</th>\n",
       "      <td>10009</td>\n",
       "      <td>Manhattan</td>\n",
       "      <td>3106</td>\n",
       "    </tr>\n",
       "    <tr>\n",
       "      <th>73</th>\n",
       "      <td>10460</td>\n",
       "      <td>Bronx</td>\n",
       "      <td>3103</td>\n",
       "    </tr>\n",
       "    <tr>\n",
       "      <th>26</th>\n",
       "      <td>10025</td>\n",
       "      <td>Manhattan</td>\n",
       "      <td>2851</td>\n",
       "    </tr>\n",
       "    <tr>\n",
       "      <th>32</th>\n",
       "      <td>10031</td>\n",
       "      <td>Manhattan</td>\n",
       "      <td>2785</td>\n",
       "    </tr>\n",
       "    <tr>\n",
       "      <th>30</th>\n",
       "      <td>10029</td>\n",
       "      <td>Manhattan</td>\n",
       "      <td>2622</td>\n",
       "    </tr>\n",
       "    <tr>\n",
       "      <th>72</th>\n",
       "      <td>10459</td>\n",
       "      <td>Bronx</td>\n",
       "      <td>2574</td>\n",
       "    </tr>\n",
       "    <tr>\n",
       "      <th>132</th>\n",
       "      <td>11238</td>\n",
       "      <td>Brooklyn</td>\n",
       "      <td>2505</td>\n",
       "    </tr>\n",
       "    <tr>\n",
       "      <th>33</th>\n",
       "      <td>10032</td>\n",
       "      <td>Manhattan</td>\n",
       "      <td>2494</td>\n",
       "    </tr>\n",
       "    <tr>\n",
       "      <th>86</th>\n",
       "      <td>10472</td>\n",
       "      <td>Bronx</td>\n",
       "      <td>2472</td>\n",
       "    </tr>\n",
       "    <tr>\n",
       "      <th>28</th>\n",
       "      <td>10027</td>\n",
       "      <td>Manhattan</td>\n",
       "      <td>2459</td>\n",
       "    </tr>\n",
       "    <tr>\n",
       "      <th>112</th>\n",
       "      <td>11217</td>\n",
       "      <td>Brooklyn</td>\n",
       "      <td>2254</td>\n",
       "    </tr>\n",
       "    <tr>\n",
       "      <th>25</th>\n",
       "      <td>10024</td>\n",
       "      <td>Manhattan</td>\n",
       "      <td>2107</td>\n",
       "    </tr>\n",
       "    <tr>\n",
       "      <th>34</th>\n",
       "      <td>10033</td>\n",
       "      <td>Manhattan</td>\n",
       "      <td>2104</td>\n",
       "    </tr>\n",
       "    <tr>\n",
       "      <th>158</th>\n",
       "      <td>11385</td>\n",
       "      <td>Queens</td>\n",
       "      <td>2053</td>\n",
       "    </tr>\n",
       "    <tr>\n",
       "      <th>106</th>\n",
       "      <td>11211</td>\n",
       "      <td>Brooklyn</td>\n",
       "      <td>2051</td>\n",
       "    </tr>\n",
       "    <tr>\n",
       "      <th>100</th>\n",
       "      <td>11205</td>\n",
       "      <td>Brooklyn</td>\n",
       "      <td>1968</td>\n",
       "    </tr>\n",
       "    <tr>\n",
       "      <th>7</th>\n",
       "      <td>10003</td>\n",
       "      <td>Manhattan</td>\n",
       "      <td>1957</td>\n",
       "    </tr>\n",
       "    <tr>\n",
       "      <th>64</th>\n",
       "      <td>10451</td>\n",
       "      <td>Bronx</td>\n",
       "      <td>1865</td>\n",
       "    </tr>\n",
       "    <tr>\n",
       "      <th>...</th>\n",
       "      <td>...</td>\n",
       "      <td>...</td>\n",
       "      <td>...</td>\n",
       "    </tr>\n",
       "    <tr>\n",
       "      <th>1</th>\n",
       "      <td>0</td>\n",
       "      <td>Brooklyn</td>\n",
       "      <td>17</td>\n",
       "    </tr>\n",
       "    <tr>\n",
       "      <th>139</th>\n",
       "      <td>11358</td>\n",
       "      <td>Queens</td>\n",
       "      <td>15</td>\n",
       "    </tr>\n",
       "    <tr>\n",
       "      <th>42</th>\n",
       "      <td>10044</td>\n",
       "      <td>Manhattan</td>\n",
       "      <td>15</td>\n",
       "    </tr>\n",
       "    <tr>\n",
       "      <th>122</th>\n",
       "      <td>11228</td>\n",
       "      <td>Brooklyn</td>\n",
       "      <td>15</td>\n",
       "    </tr>\n",
       "    <tr>\n",
       "      <th>137</th>\n",
       "      <td>11356</td>\n",
       "      <td>Queens</td>\n",
       "      <td>14</td>\n",
       "    </tr>\n",
       "    <tr>\n",
       "      <th>183</th>\n",
       "      <td>11692</td>\n",
       "      <td>Queens</td>\n",
       "      <td>13</td>\n",
       "    </tr>\n",
       "    <tr>\n",
       "      <th>145</th>\n",
       "      <td>11365</td>\n",
       "      <td>Queens</td>\n",
       "      <td>13</td>\n",
       "    </tr>\n",
       "    <tr>\n",
       "      <th>161</th>\n",
       "      <td>11413</td>\n",
       "      <td>Queens</td>\n",
       "      <td>12</td>\n",
       "    </tr>\n",
       "    <tr>\n",
       "      <th>159</th>\n",
       "      <td>11411</td>\n",
       "      <td>Queens</td>\n",
       "      <td>11</td>\n",
       "    </tr>\n",
       "    <tr>\n",
       "      <th>3</th>\n",
       "      <td>0</td>\n",
       "      <td>Queens</td>\n",
       "      <td>11</td>\n",
       "    </tr>\n",
       "    <tr>\n",
       "      <th>90</th>\n",
       "      <td>11001</td>\n",
       "      <td>Queens</td>\n",
       "      <td>10</td>\n",
       "    </tr>\n",
       "    <tr>\n",
       "      <th>79</th>\n",
       "      <td>10465</td>\n",
       "      <td>Bronx</td>\n",
       "      <td>10</td>\n",
       "    </tr>\n",
       "    <tr>\n",
       "      <th>45</th>\n",
       "      <td>10069</td>\n",
       "      <td>Manhattan</td>\n",
       "      <td>8</td>\n",
       "    </tr>\n",
       "    <tr>\n",
       "      <th>171</th>\n",
       "      <td>11422</td>\n",
       "      <td>Queens</td>\n",
       "      <td>8</td>\n",
       "    </tr>\n",
       "    <tr>\n",
       "      <th>174</th>\n",
       "      <td>11427</td>\n",
       "      <td>Queens</td>\n",
       "      <td>8</td>\n",
       "    </tr>\n",
       "    <tr>\n",
       "      <th>144</th>\n",
       "      <td>11364</td>\n",
       "      <td>Queens</td>\n",
       "      <td>7</td>\n",
       "    </tr>\n",
       "    <tr>\n",
       "      <th>175</th>\n",
       "      <td>11428</td>\n",
       "      <td>Queens</td>\n",
       "      <td>6</td>\n",
       "    </tr>\n",
       "    <tr>\n",
       "      <th>185</th>\n",
       "      <td>11694</td>\n",
       "      <td>Queens</td>\n",
       "      <td>4</td>\n",
       "    </tr>\n",
       "    <tr>\n",
       "      <th>133</th>\n",
       "      <td>11239</td>\n",
       "      <td>Brooklyn</td>\n",
       "      <td>4</td>\n",
       "    </tr>\n",
       "    <tr>\n",
       "      <th>48</th>\n",
       "      <td>10162</td>\n",
       "      <td>Manhattan</td>\n",
       "      <td>4</td>\n",
       "    </tr>\n",
       "    <tr>\n",
       "      <th>51</th>\n",
       "      <td>10282</td>\n",
       "      <td>Manhattan</td>\n",
       "      <td>4</td>\n",
       "    </tr>\n",
       "    <tr>\n",
       "      <th>146</th>\n",
       "      <td>11366</td>\n",
       "      <td>Queens</td>\n",
       "      <td>3</td>\n",
       "    </tr>\n",
       "    <tr>\n",
       "      <th>143</th>\n",
       "      <td>11363</td>\n",
       "      <td>Queens</td>\n",
       "      <td>2</td>\n",
       "    </tr>\n",
       "    <tr>\n",
       "      <th>140</th>\n",
       "      <td>11360</td>\n",
       "      <td>Queens</td>\n",
       "      <td>2</td>\n",
       "    </tr>\n",
       "    <tr>\n",
       "      <th>43</th>\n",
       "      <td>10048</td>\n",
       "      <td>Manhattan</td>\n",
       "      <td>2</td>\n",
       "    </tr>\n",
       "    <tr>\n",
       "      <th>50</th>\n",
       "      <td>10281</td>\n",
       "      <td>Manhattan</td>\n",
       "      <td>2</td>\n",
       "    </tr>\n",
       "    <tr>\n",
       "      <th>142</th>\n",
       "      <td>11362</td>\n",
       "      <td>Queens</td>\n",
       "      <td>2</td>\n",
       "    </tr>\n",
       "    <tr>\n",
       "      <th>164</th>\n",
       "      <td>11416</td>\n",
       "      <td>Brooklyn</td>\n",
       "      <td>1</td>\n",
       "    </tr>\n",
       "    <tr>\n",
       "      <th>78</th>\n",
       "      <td>10464</td>\n",
       "      <td>Bronx</td>\n",
       "      <td>1</td>\n",
       "    </tr>\n",
       "    <tr>\n",
       "      <th>184</th>\n",
       "      <td>11693</td>\n",
       "      <td>Queens</td>\n",
       "      <td>1</td>\n",
       "    </tr>\n",
       "  </tbody>\n",
       "</table>\n",
       "<p>186 rows × 3 columns</p>\n",
       "</div>"
      ],
      "text/plain": [
       "    ZIP_CODE    BOROUGH  count\n",
       "70     10457      Bronx   9025\n",
       "71     10458      Bronx   8228\n",
       "69     10456      Bronx   6519\n",
       "116    11221   Brooklyn   5681\n",
       "82     10468      Bronx   5594\n",
       "66     10453      Bronx   5243\n",
       "131    11237   Brooklyn   4873\n",
       "65     10452      Bronx   4075\n",
       "81     10467      Bronx   3978\n",
       "111    11216   Brooklyn   3926\n",
       "101    11206   Brooklyn   3924\n",
       "6      10002  Manhattan   3204\n",
       "12     10009  Manhattan   3106\n",
       "73     10460      Bronx   3103\n",
       "26     10025  Manhattan   2851\n",
       "32     10031  Manhattan   2785\n",
       "30     10029  Manhattan   2622\n",
       "72     10459      Bronx   2574\n",
       "132    11238   Brooklyn   2505\n",
       "33     10032  Manhattan   2494\n",
       "86     10472      Bronx   2472\n",
       "28     10027  Manhattan   2459\n",
       "112    11217   Brooklyn   2254\n",
       "25     10024  Manhattan   2107\n",
       "34     10033  Manhattan   2104\n",
       "158    11385     Queens   2053\n",
       "106    11211   Brooklyn   2051\n",
       "100    11205   Brooklyn   1968\n",
       "7      10003  Manhattan   1957\n",
       "64     10451      Bronx   1865\n",
       "..       ...        ...    ...\n",
       "1          0   Brooklyn     17\n",
       "139    11358     Queens     15\n",
       "42     10044  Manhattan     15\n",
       "122    11228   Brooklyn     15\n",
       "137    11356     Queens     14\n",
       "183    11692     Queens     13\n",
       "145    11365     Queens     13\n",
       "161    11413     Queens     12\n",
       "159    11411     Queens     11\n",
       "3          0     Queens     11\n",
       "90     11001     Queens     10\n",
       "79     10465      Bronx     10\n",
       "45     10069  Manhattan      8\n",
       "171    11422     Queens      8\n",
       "174    11427     Queens      8\n",
       "144    11364     Queens      7\n",
       "175    11428     Queens      6\n",
       "185    11694     Queens      4\n",
       "133    11239   Brooklyn      4\n",
       "48     10162  Manhattan      4\n",
       "51     10282  Manhattan      4\n",
       "146    11366     Queens      3\n",
       "143    11363     Queens      2\n",
       "140    11360     Queens      2\n",
       "43     10048  Manhattan      2\n",
       "50     10281  Manhattan      2\n",
       "142    11362     Queens      2\n",
       "164    11416   Brooklyn      1\n",
       "78     10464      Bronx      1\n",
       "184    11693     Queens      1\n",
       "\n",
       "[186 rows x 3 columns]"
      ]
     },
     "execution_count": 28,
     "metadata": {},
     "output_type": "execute_result"
    }
   ],
   "source": [
    "# Active rat signs grouped by zip code\n",
    "active_rat_df.groupby(['ZIP_CODE', 'BOROUGH']).size().reset_index(name='count') \\\n",
    "    .sort_values(['count'], ascending=False)"
   ]
  },
  {
   "cell_type": "code",
   "execution_count": 29,
   "metadata": {
    "collapsed": true
   },
   "outputs": [],
   "source": [
    "# Active rat signs by year, month (line plot)"
   ]
  },
  {
   "cell_type": "code",
   "execution_count": 30,
   "metadata": {
    "collapsed": true
   },
   "outputs": [],
   "source": [
    "# Avg GPS location change over year (line plot movement)\n",
    "\n",
    "\n",
    "# Zip codes with the biggest improvements by year\n",
    "# Zip codes that are worse by year\n",
    "# number of subways stops in a zipcode increase signs of rats\n",
    "# does adding a subway stop (new UES line) increase signs of rats"
   ]
  },
  {
   "cell_type": "code",
   "execution_count": 269,
   "metadata": {
    "collapsed": true
   },
   "outputs": [],
   "source": [
    "# bring in subway data\n",
    "# higher concentrations of rats near subway locations"
   ]
  },
  {
   "cell_type": "code",
   "execution_count": null,
   "metadata": {
    "collapsed": true
   },
   "outputs": [],
   "source": []
  },
  {
   "cell_type": "code",
   "execution_count": null,
   "metadata": {
    "collapsed": true
   },
   "outputs": [],
   "source": []
  }
 ],
 "metadata": {
  "kernelspec": {
   "display_name": "Python 3",
   "language": "python",
   "name": "python3"
  },
  "language_info": {
   "codemirror_mode": {
    "name": "ipython",
    "version": 3
   },
   "file_extension": ".py",
   "mimetype": "text/x-python",
   "name": "python",
   "nbconvert_exporter": "python",
   "pygments_lexer": "ipython3",
   "version": "3.6.3"
  }
 },
 "nbformat": 4,
 "nbformat_minor": 2
}
